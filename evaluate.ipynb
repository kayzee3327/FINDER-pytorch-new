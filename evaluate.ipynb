{
 "cells": [
  {
   "cell_type": "markdown",
   "source": [
    "# read state_dict"
   ],
   "metadata": {
    "collapsed": false
   },
   "id": "414d4fb2055f2c2a"
  },
  {
   "cell_type": "code",
   "execution_count": 4,
   "outputs": [],
   "source": [
    "import torch\n",
    "\n",
    "model_folder = './models/'\n",
    "state_l = []\n",
    "for i in range(300, 9901, 300):\n",
    "    model_name = model_folder + 'nrange_30_50_episode_'+ str(i) + '.pt'\n",
    "    state_l.append(torch.load(model_name, map_location=torch.device('cpu')))"
   ],
   "metadata": {
    "collapsed": false,
    "ExecuteTime": {
     "end_time": "2024-01-18T09:11:09.796049Z",
     "start_time": "2024-01-18T09:11:09.770383Z"
    }
   },
   "id": "5b2a09f38ecc326c"
  },
  {
   "cell_type": "code",
   "execution_count": 5,
   "outputs": [
    {
     "data": {
      "text/plain": "33"
     },
     "execution_count": 5,
     "metadata": {},
     "output_type": "execute_result"
    }
   ],
   "source": [
    "len(state_l)"
   ],
   "metadata": {
    "collapsed": false,
    "ExecuteTime": {
     "end_time": "2024-01-18T09:25:57.015873Z",
     "start_time": "2024-01-18T09:25:57.006739Z"
    }
   },
   "id": "fc8694982e44679e"
  },
  {
   "cell_type": "markdown",
   "source": [
    "# load test set"
   ],
   "metadata": {
    "collapsed": false
   },
   "id": "f9890c41006dba34"
  },
  {
   "cell_type": "code",
   "execution_count": 7,
   "outputs": [],
   "source": [
    "import networkx as nx\n",
    "\n",
    "graph_folder = './data/'\n",
    "graph_names = [\n",
    "    'Crime.txt',\n",
    "    'Digg.txt',\n",
    "    'Enron.txt',\n",
    "    'Epinions.txt',\n",
    "    'HI-II-14.txt'\n",
    "]\n",
    "\n",
    "graph_l = []\n",
    "for name in graph_names:\n",
    "    graph_l.append(nx.read_edgelist(graph_folder + name))\n"
   ],
   "metadata": {
    "collapsed": false,
    "ExecuteTime": {
     "end_time": "2024-01-18T09:34:50.606451Z",
     "start_time": "2024-01-18T09:34:12.557318Z"
    }
   },
   "id": "5209c4028ea46049"
  },
  {
   "cell_type": "code",
   "execution_count": 8,
   "outputs": [
    {
     "name": "stdout",
     "output_type": "stream",
     "text": [
      "829\n",
      "29652\n",
      "33696\n",
      "75877\n",
      "4165\n"
     ]
    }
   ],
   "source": [
    "for g in graph_l:\n",
    "    print(len(g.nodes))"
   ],
   "metadata": {
    "collapsed": false,
    "ExecuteTime": {
     "end_time": "2024-01-18T09:35:28.912327Z",
     "start_time": "2024-01-18T09:35:28.910376Z"
    }
   },
   "id": "7305398ce1eb406e"
  },
  {
   "cell_type": "markdown",
   "source": [
    "# evaluate"
   ],
   "metadata": {
    "collapsed": false
   },
   "id": "614a81061b638e10"
  },
  {
   "cell_type": "code",
   "execution_count": 9,
   "outputs": [
    {
     "name": "stdout",
     "output_type": "stream",
     "text": [
      "0.09818552847246724\n"
     ]
    },
    {
     "ename": "KeyboardInterrupt",
     "evalue": "",
     "output_type": "error",
     "traceback": [
      "\u001B[0;31m---------------------------------------------------------------------------\u001B[0m",
      "\u001B[0;31mKeyboardInterrupt\u001B[0m                         Traceback (most recent call last)",
      "Cell \u001B[0;32mIn[9], line 48\u001B[0m\n\u001B[1;32m     46\u001B[0m q \u001B[38;5;241m=\u001B[39m QNetwork(INPUT_SIZE, EMBEDDING_SIZE, K, tensor_type, device)\n\u001B[1;32m     47\u001B[0m q\u001B[38;5;241m.\u001B[39mload_state_dict(state_l[\u001B[38;5;241m0\u001B[39m])\n\u001B[0;32m---> 48\u001B[0m \u001B[43mtest\u001B[49m\u001B[43m(\u001B[49m\u001B[43mgraph_l\u001B[49m\u001B[43m,\u001B[49m\u001B[43m \u001B[49m\u001B[43mq\u001B[49m\u001B[43m,\u001B[49m\u001B[43m \u001B[49m\u001B[43mN_STEP\u001B[49m\u001B[43m,\u001B[49m\u001B[43m \u001B[49m\u001B[38;5;28;43mlen\u001B[39;49m\u001B[43m(\u001B[49m\u001B[43mgraph_l\u001B[49m\u001B[43m)\u001B[49m\u001B[43m,\u001B[49m\u001B[43m \u001B[49m\u001B[43mtensor_type\u001B[49m\u001B[43m,\u001B[49m\u001B[43m \u001B[49m\u001B[43mdevice\u001B[49m\u001B[43m,\u001B[49m\u001B[43m \u001B[49m\u001B[38;5;28;43;01mTrue\u001B[39;49;00m\u001B[43m)\u001B[49m\n",
      "File \u001B[0;32m~/Desktop/Flight-Delay/FINDER/FINDER-pytorch-new/train_utils.py:151\u001B[0m, in \u001B[0;36mtest\u001B[0;34m(validate_set, online_network, n_step, n_validate, tensor_type, device, test_set)\u001B[0m\n\u001B[1;32m    149\u001B[0m critical_nodes \u001B[38;5;241m=\u001B[39m []\n\u001B[1;32m    150\u001B[0m \u001B[38;5;28;01mwhile\u001B[39;00m \u001B[38;5;129;01mnot\u001B[39;00m test_env\u001B[38;5;241m.\u001B[39mis_terminal_state():\n\u001B[0;32m--> 151\u001B[0m     Q_pred \u001B[38;5;241m=\u001B[39m online_network(\u001B[38;5;241m*\u001B[39m\u001B[43mprepare_batch\u001B[49m\u001B[43m(\u001B[49m\u001B[38;5;28;43;01mTrue\u001B[39;49;00m\u001B[43m,\u001B[49m\u001B[43m \u001B[49m\u001B[43mtensor_type\u001B[49m\u001B[43m,\u001B[49m\u001B[43m \u001B[49m\u001B[43mdevice\u001B[49m\u001B[43m,\u001B[49m\u001B[43m \u001B[49m\u001B[43m[\u001B[49m\u001B[43mtest_env\u001B[49m\u001B[43m]\u001B[49m\u001B[43m)\u001B[49m)\n\u001B[1;32m    152\u001B[0m     critical_nodes\u001B[38;5;241m.\u001B[39mappend(test_env\u001B[38;5;241m.\u001B[39mdeduction_step(torch\u001B[38;5;241m.\u001B[39margmax(Q_pred)))\n\u001B[1;32m    153\u001B[0m sol \u001B[38;5;241m=\u001B[39m critical_nodes \u001B[38;5;241m+\u001B[39m \u001B[38;5;28mlist\u001B[39m(\u001B[38;5;28mset\u001B[39m(validate_set[i]\u001B[38;5;241m.\u001B[39mnodes) \u001B[38;5;241m^\u001B[39m \u001B[38;5;28mset\u001B[39m(critical_nodes))\n",
      "File \u001B[0;32m~/Desktop/Flight-Delay/FINDER/FINDER-pytorch-new/train_utils.py:59\u001B[0m, in \u001B[0;36mprepare_batch\u001B[0;34m(q_for_all, tensor_type, device, env_list, s_t, a_t)\u001B[0m\n\u001B[1;32m     56\u001B[0m adj_mat_list \u001B[38;5;241m=\u001B[39m []\n\u001B[1;32m     57\u001B[0m \u001B[38;5;28;01mfor\u001B[39;00m env \u001B[38;5;129;01min\u001B[39;00m env_list:\n\u001B[1;32m     58\u001B[0m     adj_mat_list\u001B[38;5;241m.\u001B[39mappend(\n\u001B[0;32m---> 59\u001B[0m         torch\u001B[38;5;241m.\u001B[39mtensor(\u001B[43mnx\u001B[49m\u001B[38;5;241;43m.\u001B[39;49m\u001B[43madjacency_matrix\u001B[49m\u001B[43m(\u001B[49m\u001B[43menv\u001B[49m\u001B[38;5;241;43m.\u001B[39;49m\u001B[43mG\u001B[49m\u001B[43m)\u001B[49m\u001B[38;5;241m.\u001B[39mtodense(), dtype\u001B[38;5;241m=\u001B[39mtensor_type, device\u001B[38;5;241m=\u001B[39mdevice))\n\u001B[1;32m     60\u001B[0m node_node \u001B[38;5;241m=\u001B[39m torch\u001B[38;5;241m.\u001B[39mblock_diag(\u001B[38;5;241m*\u001B[39m\u001B[38;5;28mtuple\u001B[39m(adj_mat_list))\u001B[38;5;241m.\u001B[39mto_sparse_coo()\n\u001B[1;32m     61\u001B[0m \u001B[38;5;66;03m# batch_node\u001B[39;00m\n",
      "File \u001B[0;32m/opt/homebrew/Caskroom/miniconda/base/envs/learn_torch/lib/python3.11/site-packages/networkx/linalg/graphmatrix.py:157\u001B[0m, in \u001B[0;36madjacency_matrix\u001B[0;34m(G, nodelist, dtype, weight)\u001B[0m\n\u001B[1;32m     99\u001B[0m \u001B[38;5;28;01mdef\u001B[39;00m \u001B[38;5;21madjacency_matrix\u001B[39m(G, nodelist\u001B[38;5;241m=\u001B[39m\u001B[38;5;28;01mNone\u001B[39;00m, dtype\u001B[38;5;241m=\u001B[39m\u001B[38;5;28;01mNone\u001B[39;00m, weight\u001B[38;5;241m=\u001B[39m\u001B[38;5;124m\"\u001B[39m\u001B[38;5;124mweight\u001B[39m\u001B[38;5;124m\"\u001B[39m):\n\u001B[1;32m    100\u001B[0m \u001B[38;5;250m    \u001B[39m\u001B[38;5;124;03m\"\"\"Returns adjacency matrix of G.\u001B[39;00m\n\u001B[1;32m    101\u001B[0m \n\u001B[1;32m    102\u001B[0m \u001B[38;5;124;03m    Parameters\u001B[39;00m\n\u001B[0;32m   (...)\u001B[0m\n\u001B[1;32m    155\u001B[0m \u001B[38;5;124;03m    adjacency_spectrum\u001B[39;00m\n\u001B[1;32m    156\u001B[0m \u001B[38;5;124;03m    \"\"\"\u001B[39;00m\n\u001B[0;32m--> 157\u001B[0m     \u001B[38;5;28;01mreturn\u001B[39;00m \u001B[43mnx\u001B[49m\u001B[38;5;241;43m.\u001B[39;49m\u001B[43mto_scipy_sparse_array\u001B[49m\u001B[43m(\u001B[49m\u001B[43mG\u001B[49m\u001B[43m,\u001B[49m\u001B[43m \u001B[49m\u001B[43mnodelist\u001B[49m\u001B[38;5;241;43m=\u001B[39;49m\u001B[43mnodelist\u001B[49m\u001B[43m,\u001B[49m\u001B[43m \u001B[49m\u001B[43mdtype\u001B[49m\u001B[38;5;241;43m=\u001B[39;49m\u001B[43mdtype\u001B[49m\u001B[43m,\u001B[49m\u001B[43m \u001B[49m\u001B[43mweight\u001B[49m\u001B[38;5;241;43m=\u001B[39;49m\u001B[43mweight\u001B[49m\u001B[43m)\u001B[49m\n",
      "File \u001B[0;32m/opt/homebrew/Caskroom/miniconda/base/envs/learn_torch/lib/python3.11/site-packages/networkx/convert_matrix.py:569\u001B[0m, in \u001B[0;36mto_scipy_sparse_array\u001B[0;34m(G, nodelist, dtype, weight, format)\u001B[0m\n\u001B[1;32m    566\u001B[0m         G \u001B[38;5;241m=\u001B[39m G\u001B[38;5;241m.\u001B[39msubgraph(nodelist)\n\u001B[1;32m    568\u001B[0m index \u001B[38;5;241m=\u001B[39m \u001B[38;5;28mdict\u001B[39m(\u001B[38;5;28mzip\u001B[39m(nodelist, \u001B[38;5;28mrange\u001B[39m(nlen)))\n\u001B[0;32m--> 569\u001B[0m coefficients \u001B[38;5;241m=\u001B[39m \u001B[38;5;28;43mzip\u001B[39;49m\u001B[43m(\u001B[49m\n\u001B[1;32m    570\u001B[0m \u001B[43m    \u001B[49m\u001B[38;5;241;43m*\u001B[39;49m\u001B[43m(\u001B[49m\u001B[43m(\u001B[49m\u001B[43mindex\u001B[49m\u001B[43m[\u001B[49m\u001B[43mu\u001B[49m\u001B[43m]\u001B[49m\u001B[43m,\u001B[49m\u001B[43m \u001B[49m\u001B[43mindex\u001B[49m\u001B[43m[\u001B[49m\u001B[43mv\u001B[49m\u001B[43m]\u001B[49m\u001B[43m,\u001B[49m\u001B[43m \u001B[49m\u001B[43mwt\u001B[49m\u001B[43m)\u001B[49m\u001B[43m \u001B[49m\u001B[38;5;28;43;01mfor\u001B[39;49;00m\u001B[43m \u001B[49m\u001B[43mu\u001B[49m\u001B[43m,\u001B[49m\u001B[43m \u001B[49m\u001B[43mv\u001B[49m\u001B[43m,\u001B[49m\u001B[43m \u001B[49m\u001B[43mwt\u001B[49m\u001B[43m \u001B[49m\u001B[38;5;129;43;01min\u001B[39;49;00m\u001B[43m \u001B[49m\u001B[43mG\u001B[49m\u001B[38;5;241;43m.\u001B[39;49m\u001B[43medges\u001B[49m\u001B[43m(\u001B[49m\u001B[43mdata\u001B[49m\u001B[38;5;241;43m=\u001B[39;49m\u001B[43mweight\u001B[49m\u001B[43m,\u001B[49m\u001B[43m \u001B[49m\u001B[43mdefault\u001B[49m\u001B[38;5;241;43m=\u001B[39;49m\u001B[38;5;241;43m1\u001B[39;49m\u001B[43m)\u001B[49m\u001B[43m)\u001B[49m\n\u001B[1;32m    571\u001B[0m \u001B[43m\u001B[49m\u001B[43m)\u001B[49m\n\u001B[1;32m    572\u001B[0m \u001B[38;5;28;01mtry\u001B[39;00m:\n\u001B[1;32m    573\u001B[0m     row, col, data \u001B[38;5;241m=\u001B[39m coefficients\n",
      "\u001B[0;31mKeyboardInterrupt\u001B[0m: "
     ]
    }
   ],
   "source": [
    "from Q_network import QNetwork\n",
    "from train_utils import test\n",
    "\n",
    "GAMMA = 1  # decay rate of past observations\n",
    "UPDATE_TIME = 1000\n",
    "EMBEDDING_SIZE = 64\n",
    "# MAX_ITERATION = 500000\n",
    "LEARNING_RATE = 0.0001  # dai\n",
    "MEMORY_SIZE = 500000\n",
    "Alpha = 0.001  # weight of reconstruction loss\n",
    "\n",
    "# hyperparameters for priority\n",
    "# epsilon = 0.0000001  # small amount to avoid zero priority\n",
    "# alpha = 0.6  # [0~1] convert the importance of TD error to priority\n",
    "# beta = 0.4  # importance-sampling, from initial value increasing to 1\n",
    "# beta_increment_per_sampling = 0.001\n",
    "# TD_err_upper = 1.  # clipped abs error\n",
    "\n",
    "# other network para\n",
    "N_STEP = 5\n",
    "NUM_MIN = 30\n",
    "NUM_MAX = 50\n",
    "# REG_HIDDEN = 32\n",
    "BATCH_SIZE = 64\n",
    "# initialization_stddev = 0.01  # 权重初始化的方差\n",
    "n_valid = 200\n",
    "# aux_dim = 4\n",
    "num_env = 1\n",
    "# inf = 2147483647 / 2\n",
    "\n",
    "# embedding method\n",
    "K = 3\n",
    "# aggregatorID = 0  # 0:sum; 1:mean; 2:GCN\n",
    "# embeddingMethod = 1  # 0:structure2vec; 1:graphsage\n",
    "\n",
    "# my parameter\n",
    "INPUT_SIZE = 2  # size of input feature, c in Algorithm S2\n",
    "N_train = 1000\n",
    "N_episode = 10000\n",
    "T = 10\n",
    "C = UPDATE_TIME\n",
    "UPDATE_GRAPHS = 100\n",
    "tensor_type = torch.float32\n",
    "device = torch.device('cuda') if torch.cuda.is_available() else torch.device('cpu')\n",
    "\n",
    "q = QNetwork(INPUT_SIZE, EMBEDDING_SIZE, K, tensor_type, device)\n",
    "q.load_state_dict(state_l[0])\n",
    "test(graph_l, q, N_STEP, len(graph_l), tensor_type, device, True)"
   ],
   "metadata": {
    "collapsed": false,
    "ExecuteTime": {
     "end_time": "2024-01-18T11:31:05.871582Z",
     "start_time": "2024-01-18T11:30:13.361235Z"
    }
   },
   "id": "cfd7216384d494de"
  }
 ],
 "metadata": {
  "kernelspec": {
   "display_name": "Python 3",
   "language": "python",
   "name": "python3"
  },
  "language_info": {
   "codemirror_mode": {
    "name": "ipython",
    "version": 2
   },
   "file_extension": ".py",
   "mimetype": "text/x-python",
   "name": "python",
   "nbconvert_exporter": "python",
   "pygments_lexer": "ipython2",
   "version": "2.7.6"
  }
 },
 "nbformat": 4,
 "nbformat_minor": 5
}
