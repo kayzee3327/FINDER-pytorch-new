{
 "cells": [
  {
   "cell_type": "markdown",
   "source": [
    "# read state_dict"
   ],
   "metadata": {
    "collapsed": false
   },
   "id": "414d4fb2055f2c2a"
  },
  {
   "cell_type": "code",
   "execution_count": 2,
   "outputs": [],
   "source": [
    "import torch\n",
    "\n",
    "model_folder = './models/'\n",
    "state_l = []\n",
    "for i in range(300, 9901, 300):\n",
    "    model_name = model_folder + 'nrange_30_50_episode_'+ str(i) + '.pt'\n",
    "    state_l.append(torch.load(model_name, map_location=torch.device('cpu')))"
   ],
   "metadata": {
    "collapsed": false,
    "ExecuteTime": {
     "end_time": "2024-01-28T09:53:34.208975300Z",
     "start_time": "2024-01-28T09:53:31.585114600Z"
    }
   },
   "id": "5b2a09f38ecc326c"
  },
  {
   "cell_type": "code",
   "execution_count": 3,
   "outputs": [
    {
     "data": {
      "text/plain": "33"
     },
     "execution_count": 3,
     "metadata": {},
     "output_type": "execute_result"
    }
   ],
   "source": [
    "len(state_l)"
   ],
   "metadata": {
    "collapsed": false,
    "ExecuteTime": {
     "end_time": "2024-01-28T09:53:34.218911Z",
     "start_time": "2024-01-28T09:53:34.209974200Z"
    }
   },
   "id": "fc8694982e44679e"
  },
  {
   "cell_type": "markdown",
   "source": [
    "# load test set"
   ],
   "metadata": {
    "collapsed": false
   },
   "id": "f9890c41006dba34"
  },
  {
   "cell_type": "code",
   "execution_count": 4,
   "outputs": [],
   "source": [
    "import networkx as nx\n",
    "\n",
    "graph_folder = './data/'\n",
    "graph_names = [\n",
    "    'Crime.txt',\n",
    "    'Digg.txt',\n",
    "    'Enron.txt',\n",
    "    'Epinions.txt',\n",
    "    'HI-II-14.txt'\n",
    "]\n",
    "\n",
    "graph_l = []\n",
    "for name in graph_names:\n",
    "    graph_l.append(nx.read_edgelist(graph_folder + name))\n"
   ],
   "metadata": {
    "collapsed": false,
    "ExecuteTime": {
     "end_time": "2024-01-28T09:53:40.035466400Z",
     "start_time": "2024-01-28T09:53:34.215912200Z"
    }
   },
   "id": "5209c4028ea46049"
  },
  {
   "cell_type": "code",
   "execution_count": 5,
   "outputs": [
    {
     "name": "stdout",
     "output_type": "stream",
     "text": [
      "829\n",
      "29652\n",
      "33696\n",
      "75877\n",
      "4165\n"
     ]
    }
   ],
   "source": [
    "for g in graph_l:\n",
    "    print(len(g.nodes))"
   ],
   "metadata": {
    "collapsed": false,
    "ExecuteTime": {
     "end_time": "2024-01-28T09:53:40.042499700Z",
     "start_time": "2024-01-28T09:53:40.038482800Z"
    }
   },
   "id": "7305398ce1eb406e"
  },
  {
   "cell_type": "markdown",
   "source": [
    "# evaluate"
   ],
   "metadata": {
    "collapsed": false
   },
   "id": "614a81061b638e10"
  },
  {
   "cell_type": "code",
   "execution_count": 6,
   "outputs": [],
   "source": [
    "from Q_network import QNetwork\n",
    "\n",
    "GAMMA = 1  # decay rate of past observations\n",
    "UPDATE_TIME = 1000\n",
    "EMBEDDING_SIZE = 64\n",
    "# MAX_ITERATION = 500000\n",
    "LEARNING_RATE = 0.0001  # dai\n",
    "MEMORY_SIZE = 500000\n",
    "Alpha = 0.001  # weight of reconstruction loss\n",
    "\n",
    "# hyperparameters for priority\n",
    "# epsilon = 0.0000001  # small amount to avoid zero priority\n",
    "# alpha = 0.6  # [0~1] convert the importance of TD error to priority\n",
    "# beta = 0.4  # importance-sampling, from initial value increasing to 1\n",
    "# beta_increment_per_sampling = 0.001\n",
    "# TD_err_upper = 1.  # clipped abs error\n",
    "\n",
    "# other network para\n",
    "N_STEP = 5\n",
    "NUM_MIN = 30\n",
    "NUM_MAX = 50\n",
    "# REG_HIDDEN = 32\n",
    "BATCH_SIZE = 64\n",
    "# initialization_stddev = 0.01  # 权重初始化的方差\n",
    "n_valid = 200\n",
    "# aux_dim = 4\n",
    "num_env = 1\n",
    "# inf = 2147483647 / 2\n",
    "\n",
    "# embedding method\n",
    "K = 3\n",
    "# aggregatorID = 0  # 0:sum; 1:mean; 2:GCN\n",
    "# embeddingMethod = 1  # 0:structure2vec; 1:graphsage\n",
    "\n",
    "# my parameter\n",
    "INPUT_SIZE = 2  # size of input feature, c in Algorithm S2\n",
    "N_train = 1000\n",
    "N_episode = 10000\n",
    "T = 10\n",
    "C = UPDATE_TIME\n",
    "UPDATE_GRAPHS = 100\n",
    "tensor_type = torch.float32\n",
    "device = torch.device('cuda') if torch.cuda.is_available() else torch.device('cpu')"
   ],
   "metadata": {
    "collapsed": false,
    "ExecuteTime": {
     "end_time": "2024-01-28T09:53:41.884720800Z",
     "start_time": "2024-01-28T09:53:40.041488Z"
    }
   },
   "id": "87cbd144057434ee"
  },
  {
   "cell_type": "code",
   "execution_count": 7,
   "outputs": [],
   "source": [
    "from train_utils import prepare_batch\n",
    "from math import floor\n",
    "from graph_utils import accumulated_normalized_connectivity\n",
    "def test(model, graph):\n",
    "    g_copy:nx.Graph = graph.copy()\n",
    "    num_remove_nodes = floor(0.01 * len(graph.nodes))\n",
    "    \n",
    "    deleted_nodes = []\n",
    "    while nx.number_of_edges(g_copy) > 0:\n",
    "        out = model(*prepare_batch(q_for_all=True,\n",
    "                                    tensor_type=tensor_type,\n",
    "                                    device=device,\n",
    "                                    s_t=[torch.tensor(nx.adjacency_matrix(g_copy).todense(), device=device, dtype=tensor_type)]))\n",
    "        node_sort = list(torch.argsort(torch.squeeze(out, dim=1)))\n",
    "        node_id = node_sort[:num_remove_nodes]\n",
    "        node_name = []\n",
    "        for ni in node_id:\n",
    "            node_name.append(list(g_copy.nodes)[ni])\n",
    "        for nn in node_name:\n",
    "            deleted_nodes.append(nn)\n",
    "            g_copy.remove_node(nn)\n",
    "    \n",
    "    sol = deleted_nodes + list(set(graph.nodes)^set(deleted_nodes))\n",
    "    return accumulated_normalized_connectivity(sol, graph)\n",
    "\n",
    "q = QNetwork(INPUT_SIZE, EMBEDDING_SIZE, K, tensor_type, device)"
   ],
   "metadata": {
    "collapsed": false,
    "ExecuteTime": {
     "end_time": "2024-01-28T09:53:42.329741400Z",
     "start_time": "2024-01-28T09:53:41.886715100Z"
    }
   },
   "id": "cfd7216384d494de"
  },
  {
   "cell_type": "code",
   "execution_count": 8,
   "outputs": [
    {
     "name": "stderr",
     "output_type": "stream",
     "text": [
      "100%|██████████| 33/33 [00:35<00:00,  1.08s/it]\n"
     ]
    }
   ],
   "source": [
    "from tqdm import tqdm\n",
    "result = []\n",
    "for i in range(len(state_l)):\n",
    "    result.append([])\n",
    "for i in tqdm(range(len(state_l))):\n",
    "    q.load_state_dict(state_l[i])\n",
    "    for j in range(1):\n",
    "        result[i].append(test(q, graph_l[j]))"
   ],
   "metadata": {
    "collapsed": false,
    "ExecuteTime": {
     "end_time": "2024-01-28T09:54:17.908396900Z",
     "start_time": "2024-01-28T09:53:42.331741800Z"
    }
   },
   "id": "8a7981483d5844c7"
  },
  {
   "cell_type": "code",
   "execution_count": 10,
   "outputs": [
    {
     "data": {
      "text/plain": "array([[0.33120973],\n       [0.33204198],\n       [0.33166373],\n       [0.33237493],\n       [0.33243603],\n       [0.3323136 ],\n       [0.33233662],\n       [0.33229022],\n       [0.33229275],\n       [0.33230754],\n       [0.33237102],\n       [0.33236533],\n       [0.33120568],\n       [0.33210123],\n       [0.33171588],\n       [0.33212034],\n       [0.33192174],\n       [0.33191142],\n       [0.33192632],\n       [0.33204528],\n       [0.33219768],\n       [0.33225382],\n       [0.3320153 ],\n       [0.33210947],\n       [0.33211651],\n       [0.33182098],\n       [0.33188069],\n       [0.33178112],\n       [0.33205813],\n       [0.33236529],\n       [0.33243594],\n       [0.3322575 ],\n       [0.33243872]])"
     },
     "execution_count": 10,
     "metadata": {},
     "output_type": "execute_result"
    }
   ],
   "source": [
    "import numpy as np\n",
    "\n",
    "np.array(result)"
   ],
   "metadata": {
    "collapsed": false,
    "ExecuteTime": {
     "end_time": "2024-01-28T09:54:35.542737400Z",
     "start_time": "2024-01-28T09:54:35.528778300Z"
    }
   },
   "id": "862dd125b525c9eb"
  }
 ],
 "metadata": {
  "kernelspec": {
   "display_name": "Python 3",
   "language": "python",
   "name": "python3"
  },
  "language_info": {
   "codemirror_mode": {
    "name": "ipython",
    "version": 2
   },
   "file_extension": ".py",
   "mimetype": "text/x-python",
   "name": "python",
   "nbconvert_exporter": "python",
   "pygments_lexer": "ipython2",
   "version": "2.7.6"
  }
 },
 "nbformat": 4,
 "nbformat_minor": 5
}
